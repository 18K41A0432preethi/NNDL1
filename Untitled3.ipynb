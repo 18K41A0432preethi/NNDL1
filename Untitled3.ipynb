{
 "cells": [
  {
   "cell_type": "code",
   "execution_count": 1,
   "id": "c92087e4-84d6-4cb5-b6ca-82c4a09edcc4",
   "metadata": {},
   "outputs": [
    {
     "name": "stdout",
     "output_type": "stream",
     "text": [
      "Collecting influxdb-client\n",
      "  Using cached influxdb_client-1.36.0-py3-none-any.whl (720 kB)\n",
      "Collecting reactivex>=4.0.4\n",
      "  Using cached reactivex-4.0.4-py3-none-any.whl (217 kB)\n",
      "Requirement already satisfied: urllib3>=1.26.0 in /userapp/virtualenv/celltools/lib/python3.9/site-packages (from influxdb-client) (1.26.12)\n",
      "Requirement already satisfied: setuptools>=21.0.0 in /userapp/virtualenv/celltools/lib/python3.9/site-packages (from influxdb-client) (58.1.0)\n",
      "Requirement already satisfied: certifi>=14.05.14 in /userapp/virtualenv/celltools/lib/python3.9/site-packages (from influxdb-client) (2022.9.24)\n",
      "Requirement already satisfied: python-dateutil>=2.5.3 in /userapp/virtualenv/celltools/lib/python3.9/site-packages (from influxdb-client) (2.8.2)\n",
      "Requirement already satisfied: six>=1.5 in /userapp/virtualenv/celltools/lib/python3.9/site-packages (from python-dateutil>=2.5.3->influxdb-client) (1.16.0)\n",
      "Requirement already satisfied: typing-extensions<5.0.0,>=4.1.1 in /userapp/virtualenv/celltools/lib/python3.9/site-packages (from reactivex>=4.0.4->influxdb-client) (4.4.0)\n",
      "Installing collected packages: reactivex, influxdb-client\n",
      "\u001b[31mERROR: Could not install packages due to an OSError: [Errno 13] Permission denied: '/userapp/virtualenv/celltools/lib/python3.9/site-packages/reactivex'\n",
      "Check the permissions.\n",
      "\u001b[0m\n",
      "\u001b[33mWARNING: You are using pip version 21.2.4; however, version 23.0 is available.\n",
      "You should consider upgrading via the '/userapp/virtualenv/celltools/bin/python3 -m pip install --upgrade pip' command.\u001b[0m\n",
      "Note: you may need to restart the kernel to use updated packages.\n"
     ]
    }
   ],
   "source": [
    "pip install influxdb-client"
   ]
  },
  {
   "cell_type": "code",
   "execution_count": 1,
   "id": "df0a38f9-abd6-4b97-bac6-1e4364b8afb3",
   "metadata": {},
   "outputs": [],
   "source": [
    "import requests"
   ]
  },
  {
   "cell_type": "code",
   "execution_count": 2,
   "id": "3b66291f-9e18-47b9-9057-e2047f02a92d",
   "metadata": {},
   "outputs": [],
   "source": [
    "# InfluxDB API endpoint\n",
    "url = \"http://arcdtn02.rs.gsu.edu:8086/\""
   ]
  },
  {
   "cell_type": "code",
   "execution_count": 3,
   "id": "8d9bb6d9-5609-4235-a29c-3dba72c5cad8",
   "metadata": {
    "tags": []
   },
   "outputs": [],
   "source": [
    "# InfluxDB API token with read access to the desired bucket\n",
    "token = \"x7UliC8HEowsL9217wiRyokPmgDs02uVNUhy5Hl8fbHL8nfVwVB3vXj6EHKarwQqzmeGqtROrDuSv5WWovt4Jg==\""
   ]
  },
  {
   "cell_type": "code",
   "execution_count": 4,
   "id": "ea106d7d-4864-4429-89ff-23724acd4374",
   "metadata": {
    "tags": []
   },
   "outputs": [],
   "source": [
    "# Bucket and organization information\n",
    "bucket = \"acids\"\n",
    "org = \"acids\""
   ]
  },
  {
   "cell_type": "code",
   "execution_count": 5,
   "id": "18e83d58-28d7-417d-b379-4827095bf1c9",
   "metadata": {
    "tags": []
   },
   "outputs": [],
   "source": [
    "# Query string to fetch data from the bucket\n",
    "query = f\"from(bucket:\\\"{bucket}\\\") |> range(start: -1h)\""
   ]
  },
  {
   "cell_type": "code",
   "execution_count": 6,
   "id": "dbc36db7-e043-4e82-8fbc-06097a08e311",
   "metadata": {
    "tags": []
   },
   "outputs": [],
   "source": [
    "# Set up headers for the API request\n",
    "headers = {\n",
    "    \"Authorization\": f\"Token {token}\",\n",
    "    \"Content-Type\": \"application/vnd.flux\",\n",
    "    \"Accept\": \"application/csv\",\n",
    "}"
   ]
  },
  {
   "cell_type": "code",
   "execution_count": 7,
   "id": "a6bc55c6-ab73-440d-90d7-0ec39004aadd",
   "metadata": {
    "tags": []
   },
   "outputs": [],
   "source": [
    "# Execute the query and get the response from the InfluxDB API\n",
    "response = requests.post(f\"{url}/api/v2/query\", headers=headers, data=query)"
   ]
  },
  {
   "cell_type": "code",
   "execution_count": 8,
   "id": "38e0ebad-4ae7-415f-9426-1ec1710ae975",
   "metadata": {
    "tags": []
   },
   "outputs": [
    {
     "name": "stdout",
     "output_type": "stream",
     "text": [
      "<!doctype html><html lang=\"en\"><head><meta charset=\"utf-8\"><meta name=\"viewport\" content=\"width=device-width,initial-scale=1\"><meta name=\"description\" content=\"InfluxDB is a time series platform, purpose-built by InfluxData for storing metrics and events, provides real-time visibility into stacks, sensors, and systems.\"><title>InfluxDB</title><base href=\"/\"><link rel=\"shortcut icon\" href=\"/favicon.ico\"></head><body><div id=\"react-root\" data-basepath=\"\"></div><script src=\"/4ba86f89e6.js\"></script></body></html>\n"
     ]
    }
   ],
   "source": [
    "# Check if the request was successful\n",
    "if response.status_code == 200:\n",
    "    # Print the response data\n",
    "    print(response.text)\n",
    "else:\n",
    "    # Print the error message\n",
    "    print(f\"Error: {response.text}\")"
   ]
  },
  {
   "cell_type": "code",
   "execution_count": 9,
   "id": "edd53f8b-bfc8-42e3-b274-f7c6b05eef9a",
   "metadata": {
    "tags": []
   },
   "outputs": [
    {
     "ename": "NameError",
     "evalue": "name 'client' is not defined",
     "output_type": "error",
     "traceback": [
      "\u001b[0;31m---------------------------------------------------------------------------\u001b[0m",
      "\u001b[0;31mNameError\u001b[0m                                 Traceback (most recent call last)",
      "Cell \u001b[0;32mIn[9], line 2\u001b[0m\n\u001b[1;32m      1\u001b[0m \u001b[38;5;66;03m# Query data from the bucket\u001b[39;00m\n\u001b[0;32m----> 2\u001b[0m result \u001b[38;5;241m=\u001b[39m \u001b[43mclient\u001b[49m\u001b[38;5;241m.\u001b[39mquery(\u001b[38;5;124m\"\u001b[39m\u001b[38;5;124mSELECT * FROM acids\u001b[39m\u001b[38;5;124m\"\u001b[39m)\n",
      "\u001b[0;31mNameError\u001b[0m: name 'client' is not defined"
     ]
    }
   ],
   "source": [
    "# Query data from the bucket\n",
    "result = client.query(\"SELECT * FROM acids\")"
   ]
  },
  {
   "cell_type": "code",
   "execution_count": 12,
   "id": "5590abe3-8048-4ee5-afcd-c29c113e63db",
   "metadata": {
    "tags": []
   },
   "outputs": [],
   "source": [
    "from influxdb import InfluxDBClient"
   ]
  },
  {
   "cell_type": "code",
   "execution_count": 13,
   "id": "6bd236b6-034e-4623-9d3c-80b1df91f329",
   "metadata": {
    "tags": []
   },
   "outputs": [
    {
     "ename": "TypeError",
     "evalue": "__init__() got an unexpected keyword argument 'url'",
     "output_type": "error",
     "traceback": [
      "\u001b[0;31m---------------------------------------------------------------------------\u001b[0m",
      "\u001b[0;31mTypeError\u001b[0m                                 Traceback (most recent call last)",
      "Cell \u001b[0;32mIn[13], line 1\u001b[0m\n\u001b[0;32m----> 1\u001b[0m client \u001b[38;5;241m=\u001b[39m \u001b[43mInfluxDBClient\u001b[49m\u001b[43m(\u001b[49m\n\u001b[1;32m      2\u001b[0m \u001b[43m    \u001b[49m\u001b[43murl\u001b[49m\u001b[38;5;241;43m=\u001b[39;49m\u001b[38;5;124;43m\"\u001b[39;49m\u001b[38;5;124;43mhttp://arcdtn02.rs.gsu.edu:8086/\u001b[39;49m\u001b[38;5;124;43m\"\u001b[39;49m\u001b[43m,\u001b[49m\n\u001b[1;32m      3\u001b[0m \u001b[43m    \u001b[49m\u001b[43mtoken\u001b[49m\u001b[38;5;241;43m=\u001b[39;49m\u001b[43m \u001b[49m\u001b[38;5;124;43m\"\u001b[39;49m\u001b[38;5;124;43mx7UliC8HEowsL9217wiRyokPmgDs02uVNUhy5Hl8fbHL8nfVwVB3vXj6EHKarwQqzmeGqtROrDuSv5WWovt4Jg==\u001b[39;49m\u001b[38;5;124;43m\"\u001b[39;49m\u001b[43m,\u001b[49m\n\u001b[1;32m      4\u001b[0m \u001b[43m    \u001b[49m\u001b[43morg\u001b[49m\u001b[38;5;241;43m=\u001b[39;49m\u001b[38;5;124;43m\"\u001b[39;49m\u001b[38;5;124;43macids\u001b[39;49m\u001b[38;5;124;43m\"\u001b[39;49m\u001b[43m,\u001b[49m\n\u001b[1;32m      5\u001b[0m \u001b[43m    \u001b[49m\u001b[43mdebug\u001b[49m\u001b[38;5;241;43m=\u001b[39;49m\u001b[38;5;28;43;01mTrue\u001b[39;49;00m\n\u001b[1;32m      6\u001b[0m \u001b[43m)\u001b[49m\n",
      "\u001b[0;31mTypeError\u001b[0m: __init__() got an unexpected keyword argument 'url'"
     ]
    }
   ],
   "source": [
    "client = InfluxDBClient(\n",
    "    url=\"http://arcdtn02.rs.gsu.edu:8086/\",\n",
    "    token= \"x7UliC8HEowsL9217wiRyokPmgDs02uVNUhy5Hl8fbHL8nfVwVB3vXj6EHKarwQqzmeGqtROrDuSv5WWovt4Jg==\",\n",
    "    org=\"acids\",\n",
    "    debug=True\n",
    ")"
   ]
  },
  {
   "cell_type": "code",
   "execution_count": null,
   "id": "d73d6f2e-70e8-4adf-b773-5ae04d156d6d",
   "metadata": {},
   "outputs": [],
   "source": []
  },
  {
   "cell_type": "code",
   "execution_count": null,
   "id": "b850ae8c-ab91-4044-abfb-a166634f872d",
   "metadata": {},
   "outputs": [],
   "source": []
  }
 ],
 "metadata": {
  "kernelspec": {
   "display_name": "Python 3 (ipykernel)",
   "language": "python",
   "name": "python3"
  },
  "language_info": {
   "codemirror_mode": {
    "name": "ipython",
    "version": 3
   },
   "file_extension": ".py",
   "mimetype": "text/x-python",
   "name": "python",
   "nbconvert_exporter": "python",
   "pygments_lexer": "ipython3",
   "version": "3.9.9"
  }
 },
 "nbformat": 4,
 "nbformat_minor": 5
}

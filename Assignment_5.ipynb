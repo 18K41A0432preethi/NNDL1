{
  "nbformat": 4,
  "nbformat_minor": 0,
  "metadata": {
    "kernelspec": {
      "display_name": "Python 3",
      "language": "python",
      "name": "python3"
    },
    "language_info": {
      "codemirror_mode": {
        "name": "ipython",
        "version": 3
      },
      "file_extension": ".py",
      "mimetype": "text/x-python",
      "name": "python",
      "nbconvert_exporter": "python",
      "pygments_lexer": "ipython3",
      "version": "3.7.4"
    },
    "colab": {
      "name": "Assignment 5",
      "provenance": [],
      "collapsed_sections": [],
      "include_colab_link": true
    }
  },
  "cells": [
    {
      "cell_type": "markdown",
      "metadata": {
        "id": "view-in-github",
        "colab_type": "text"
      },
      "source": [
        "<a href=\"https://colab.research.google.com/github/18K41A0432preethi/NNDL1/blob/main/Assignment_5.ipynb\" target=\"_parent\"><img src=\"https://colab.research.google.com/assets/colab-badge.svg\" alt=\"Open In Colab\"/></a>"
      ]
    },
    {
      "cell_type": "code",
      "metadata": {
        "id": "exsLQQGa9gVq",
        "colab": {
          "base_uri": "https://localhost:8080/"
        },
        "outputId": "2fc40c42-d7c7-4699-b9eb-60edb6d49594"
      },
      "source": [
        "\n",
        "#Minibatch Gradient Descent Algorithm\n",
        "# initialise values\n",
        "xa = [0.2,0.4,0.6,0.8]\n",
        "ya = [2.4,3.8,4.2,4.6]\n",
        "bs = 2 #batch size \n",
        "m = 1.0 \n",
        "c = -1.0  #variable m,c\n",
        "eta=0.1 #Learning rate\n",
        "max_iters=100 #Maximum iterations\n",
        "ns = len(xa)\n",
        "nb = ns//bs\n",
        "ms = ns%bs\n",
        "k = nb\n",
        "if(ms>0):\n",
        "    gradm=0\n",
        "    gradc=0\n",
        "    for j in range(0,ms):\n",
        "        index = k*bs + j\n",
        "        gradm = gradm+((-1.0)*((ya[index] - m*xa[index] -c)*xa[index]))\n",
        "        gradc = gradc+((-1.0)*(ya[index] - m*xa[index] -c))\n",
        "    gradm = gradm/ms\n",
        "    gradc = gradc/ms\n",
        "    #find change in m , c\n",
        "    dm = (-1.0)*eta*gradm\n",
        "    dc = (-1.0)*eta*gradc\n",
        "    #update variable \n",
        "    m = m + dm \n",
        "    c = c + dc\n",
        "for i in range(0,max_iters):\n",
        "    for k in range(0,nb):\n",
        "        gradm=0\n",
        "        gradc=0\n",
        "        for j in range(0,bs):\n",
        "            index = k*bs + j\n",
        "            gradm = gradm+((-1.0)*((ya[index] - m*xa[index] -c)*xa[index]))\n",
        "            gradc = gradc+((-1.0)*(ya[index] - m*xa[index] -c))\n",
        "        gradm = gradm/bs\n",
        "        gradc = gradc/bs\n",
        "        #find change in m,c\n",
        "        dm = (-1.0)*eta*gradm\n",
        "        dc = (-1.0)*eta*gradc\n",
        "        #update variable \n",
        "        m = m + dm \n",
        "        c = c + dc\n",
        "\n",
        "#step7 print variable m, c\n",
        "m= round(m,2)\n",
        "c= round(c,2)\n",
        "print(m, c)\n",
        "print(f'minimum value obtained at m = {m} ,c ={c} for given function')"
      ],
      "execution_count": 6,
      "outputs": [
        {
          "output_type": "stream",
          "text": [
            "3.16 2.18\n",
            "minimum value obtained at m = 3.16 ,c =2.18 for given function\n"
          ],
          "name": "stdout"
        }
      ]
    },
    {
      "cell_type": "code",
      "metadata": {
        "id": "VHliE_AE_MWD",
        "colab": {
          "base_uri": "https://localhost:8080/",
          "height": 295
        },
        "outputId": "3ed36226-04f2-483b-b5f7-13b091a44d3e"
      },
      "source": [
        "import matplotlib.pyplot as plt\n",
        "import numpy as np\n",
        "x = np.linspace(-5,5,100)\n",
        "y = m*x+c\n",
        "plt.plot(x, y, '-r', label='y='+str(m)+'x+'+str(c))\n",
        "plt.title('Graph of '+'y='+str(m)+'x+'+str(c))\n",
        "plt.xlabel('x')\n",
        "plt.ylabel('y')\n",
        "plt.legend(loc='upper left')\n",
        "plt.grid()\n",
        "plt.show()"
      ],
      "execution_count": 7,
      "outputs": [
        {
          "output_type": "display_data",
          "data": {
            "image/png": "[encoded data removed]",
            "text/plain": [
              "<Figure size 432x288 with 1 Axes>"
            ]
          },
          "metadata": {
            "tags": [],
            "needs_background": "light"
          }
        }
      ]
    },
    {
      "cell_type": "code",
      "metadata": {
        "id": "YVhSBqsg9gV2",
        "colab": {
          "base_uri": "https://localhost:8080/"
        },
        "outputId": "7b5d2f88-fc24-4577-b25c-0eaa104d4425"
      },
      "source": [
        "data_pred = []\n",
        "for i in xa:\n",
        "    data_pred.append(m*i+c)\n",
        "from sklearn.metrics import mean_squared_error\n",
        "mse = mean_squared_error(ya,data_pred)\n",
        "print(\"Mean Square Error(MSE) : \",mse)\n",
        "print(\"Root Mean Square Error(RMSE):\",mse**0.5)"
      ],
      "execution_count": 8,
      "outputs": [
        {
          "output_type": "stream",
          "text": [
            "Mean Square Error(MSE) :  0.08087999999999998\n",
            "Root Mean Square Error(RMSE): 0.28439409276565497\n"
          ],
          "name": "stdout"
        }
      ]
    },
    {
      "cell_type": "code",
      "metadata": {
        "id": "3LnOnoY69gV3"
      },
      "source": [
        ""
      ],
      "execution_count": null,
      "outputs": []
    }
  ]
}
{
  "nbformat": 4,
  "nbformat_minor": 0,
  "metadata": {
    "colab": {
      "name": "Copy of Untitled8.ipynb",
      "provenance": [],
      "mount_file_id": "1ShDTYukPKcjmIQpN3QjT-h_n7WJafG4O",
      "authorship_tag": "ABX9TyP5zVSZySb7j7iRxJnTHXz5",
      "include_colab_link": true
    },
    "kernelspec": {
      "name": "python3",
      "display_name": "Python 3"
    }
  },
  "cells": [
    {
      "cell_type": "markdown",
      "metadata": {
        "id": "view-in-github",
        "colab_type": "text"
      },
      "source": [
        "<a href=\"https://colab.research.google.com/github/18K41A0432preethi/NNDL1/blob/main/assignment1.ipynb\" target=\"_parent\"><img src=\"https://colab.research.google.com/assets/colab-badge.svg\" alt=\"Open In Colab\"/></a>"
      ]
    },
    {
      "cell_type": "code",
      "metadata": {
        "id": "wsJs5Clk1d6P"
      },
      "source": [
        "from sympy import*\r\n",
        "x=Symbol('x')\r\n",
        "f=x**4+3*x**2+10\r\n",
        "n=-0.001\r\n",
        "itr=1000\r\n",
        "i=0\r\n",
        "d=f.diff(x)\r\n",
        "f=lambdify(x,f)\r\n",
        "d=lambdify(x,d)"
      ],
      "execution_count": null,
      "outputs": []
    },
    {
      "cell_type": "code",
      "metadata": {
        "colab": {
          "base_uri": "https://localhost:8080/"
        },
        "id": "s37yEcMT2Csl",
        "outputId": "6541afc4-3789-4377-d2eb-28267dc90b90"
      },
      "source": [
        "y=10\r\n",
        "while i<itr:\r\n",
        "      y=y+(n*d(y))\r\n",
        "      i=i+1\r\n",
        "else:\r\n",
        "  f=int(f(y))\r\n",
        "  y=int(y)\r\n",
        "  print(\"minimum value of f(x)=\"+str(f)+\" at x=\"+str(y))     "
      ],
      "execution_count": null,
      "outputs": [
        {
          "output_type": "stream",
          "text": [
            "minimum value of f(x)=10 at x=0\n"
          ],
          "name": "stdout"
        }
      ]
    }
  ]
}
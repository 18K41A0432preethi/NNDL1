{
  "nbformat": 4,
  "nbformat_minor": 0,
  "metadata": {
    "colab": {
      "name": "Untitled8.ipynb",
      "provenance": [],
      "authorship_tag": "ABX9TyMvGbkiAyi+fVb4Zn+mprZt",
      "include_colab_link": true
    },
    "kernelspec": {
      "name": "python3",
      "display_name": "Python 3"
    }
  },
  "cells": [
    {
      "cell_type": "markdown",
      "metadata": {
        "id": "view-in-github",
        "colab_type": "text"
      },
      "source": [
        "<a href=\"https://colab.research.google.com/github/18K41A0432preethi/NNDL1/blob/main/Assignment1.ipynb\" target=\"_parent\"><img src=\"https://colab.research.google.com/assets/colab-badge.svg\" alt=\"Open In Colab\"/></a>"
      ]
    },
    {
      "cell_type": "code",
      "metadata": {
        "colab": {
          "base_uri": "https://localhost:8080/"
        },
        "id": "pbnQH3b-n9il",
        "outputId": "e1a73168-ae1b-4a1a-ddef-4020aefb4dbe"
      },
      "source": [
        "def f(x):\r\n",
        "\treturn  (x * 4) + (3 * (x * 2)) + 10\r\n",
        "def df(x):\r\n",
        "\treturn (4 * (x**3)) + (6 * x) \r\n",
        "def gradientdescent(function, initialvalue, eeta=0.01, precision = 0.0001):\r\n",
        "\tn_x = initialvalue\r\n",
        "\tfor n in range(500):\r\n",
        "\t\tc_x = n_x\r\n",
        "\t\tgradient = function(c_x)\r\n",
        "\t\tn_x = c_x - eeta * gradient\r\n",
        "\t\tstep_size = abs(n_x - c_x)\r\n",
        "\t\tif step_size < precision :\r\n",
        "\t\t\tbreak\r\n",
        "\treturn n_x\r\n",
        "mi = gradientdescent(df, 0)\r\n",
        "print('the global minimum value of f(x) at x=0 =',f(mi))"
      ],
      "execution_count": 8,
      "outputs": [
        {
          "output_type": "stream",
          "text": [
            "the global minimum value of f(x) at x=0 = 10.0\n"
          ],
          "name": "stdout"
        }
      ]
    }
  ]
}
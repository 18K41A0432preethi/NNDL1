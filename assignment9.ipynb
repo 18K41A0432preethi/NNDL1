{
  "nbformat": 4,
  "nbformat_minor": 0,
  "metadata": {
    "colab": {
      "name": "assignment9.ipynb",
      "provenance": [],
      "authorship_tag": "ABX9TyP1bKQm+unlPUkAQblaeJ+u",
      "include_colab_link": true
    },
    "kernelspec": {
      "name": "python3",
      "display_name": "Python 3"
    },
    "language_info": {
      "name": "python"
    }
  },
  "cells": [
    {
      "cell_type": "markdown",
      "metadata": {
        "id": "view-in-github",
        "colab_type": "text"
      },
      "source": [
        "<a href=\"https://colab.research.google.com/github/18K41A0432preethi/NNDL1/blob/main/assignment9.ipynb\" target=\"_parent\"><img src=\"https://colab.research.google.com/assets/colab-badge.svg\" alt=\"Open In Colab\"/></a>"
      ]
    },
    {
      "cell_type": "code",
      "metadata": {
        "colab": {
          "base_uri": "https://localhost:8080/"
        },
        "id": "Xym1eRpsgpev",
        "outputId": "fe6fdff5-0130-431d-c0fb-ff30278e264d"
      },
      "source": [
        "#Initialise values \n",
        "x = [0.2,0.4,0.6,0.8]\n",
        "y = [3.4,3.8,4.2,4.6]\n",
        "m=1\n",
        "c=-1\n",
        "eta=0.1 #Learning rate\n",
        "max_iters=100 #Maximum iterations\n",
        "ns=len(x)\n",
        "gama=0.9\n",
        "vm=0\n",
        "vc=0\n",
        "for i in range(max_iters):\n",
        "  for j in range(ns):\n",
        "    gm=((-1.0)*(y[j]-m*x[j]-c)*(x[j]))\n",
        "    gc=((-1.0)*(y[j]-m*x[j]-c))\n",
        "    #step3 find change in m,c\n",
        "    vm=(gama*vm)-(eta*gm)\n",
        "    vc=(gama*vc)-(eta*gc)\n",
        "    #step4 update variable \n",
        "    m = m + vm\n",
        "    m = round(m, 2) \n",
        "    c = c + vc\n",
        "    c = round(c, 2)\n",
        "  #step7 print variable m,c\n",
        "print(m, c)\n",
        "print(\"The minimum value occurs at m =%.2f\"%(m),\", c = %.2f\"%(c))"
      ],
      "execution_count": 1,
      "outputs": [
        {
          "output_type": "stream",
          "text": [
            "2.03 2.99\n",
            "The minimum value occurs at m =2.03 , c = 2.99\n"
          ],
          "name": "stdout"
        }
      ]
    },
    {
      "cell_type": "code",
      "metadata": {
        "colab": {
          "base_uri": "https://localhost:8080/",
          "height": 295
        },
        "id": "W87e95zigxxu",
        "outputId": "075ccec3-5605-4346-fed9-1ea6a6ccd52b"
      },
      "source": [
        "import matplotlib.pyplot as plt\n",
        "import numpy as np\n",
        "x = np.linspace(-5,5,100)\n",
        "y = m*x+c\n",
        "plt.plot(x, y, '-r', label='y='+str(m)+'x+'+str(c))\n",
        "plt.title('Graph of '+'y='+str(m)+'x+'+str(c))\n",
        "plt.xlabel('x')\n",
        "plt.ylabel('y')\n",
        "plt.legend(loc='upper left')\n",
        "plt.grid()\n",
        "plt.show()"
      ],
      "execution_count": 2,
      "outputs": [
        {
          "output_type": "display_data",
          "data": {
            "image/png": "[encoded data removed]",
            "text/plain": [
              "<Figure size 432x288 with 1 Axes>"
            ]
          },
          "metadata": {
            "tags": [],
            "needs_background": "light"
          }
        }
      ]
    },
    {
      "cell_type": "code",
      "metadata": {
        "colab": {
          "base_uri": "https://localhost:8080/"
        },
        "id": "Wh0W4-5Yg6QE",
        "outputId": "39a1c267-3081-495e-fbf5-be515f5bcff3"
      },
      "source": [
        "data_pred = []\n",
        "for i in x:\n",
        "    data_pred.append(m*i+c)\n",
        "\n",
        "from sklearn.metrics import mean_squared_error\n",
        "mse = mean_squared_error(y,data_pred)\n",
        "print(f\"mean square error : {mse}\")"
      ],
      "execution_count": 3,
      "outputs": [
        {
          "output_type": "stream",
          "text": [
            "mean square error : 0.0\n"
          ],
          "name": "stdout"
        }
      ]
    }
  ]
}
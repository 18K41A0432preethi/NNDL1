{
  "nbformat": 4,
  "nbformat_minor": 0,
  "metadata": {
    "colab": {
      "name": "assignment2.ipynb",
      "provenance": [],
      "authorship_tag": "ABX9TyN2gJrflyFuZz7Wb/OhezKh",
      "include_colab_link": true
    },
    "kernelspec": {
      "name": "python3",
      "display_name": "Python 3"
    },
    "language_info": {
      "name": "python"
    }
  },
  "cells": [
    {
      "cell_type": "markdown",
      "metadata": {
        "id": "view-in-github",
        "colab_type": "text"
      },
      "source": [
        "<a href=\"https://colab.research.google.com/github/18K41A0432preethi/NNDL1/blob/main/assignment2.ipynb\" target=\"_parent\"><img src=\"https://colab.research.google.com/assets/colab-badge.svg\" alt=\"Open In Colab\"/></a>"
      ]
    },
    {
      "cell_type": "code",
      "metadata": {
        "colab": {
          "base_uri": "https://localhost:8080/"
        },
        "id": "WYpjq25lRFPv",
        "outputId": "ec7783e1-86b2-48f0-fdc0-87a6d3f3c1c8"
      },
      "source": [
        "#initialize values\n",
        "import random\n",
        "x=random.randint(-10,11)    #random x variable\n",
        "y=random.randint(-10,11)    #random y variable\n",
        "n=0.01 #Learning rate\n",
        "max_iters=1000 #Maximum iterations\n",
        "#Given Function\n",
        "f=(x**4)+(3*(x**2))+10\n",
        "#Function to find derivative\n",
        "def derivative(x,y):\n",
        "  x_derivative=2*x #differentiation with respect to x\n",
        "  y_derivative=2*y #differentiation with respect to y\n",
        "  return x_derivative,y_derivative\n",
        "for i in range(max_iters):\n",
        "  fx,fy=derivative(x,y)\n",
        "  dx=-(n)*fx\n",
        "  dy=-(n)*fy\n",
        "  x=x+dx#Grad Descent\n",
        "  y=y+dy#Grad Descent\n",
        "print(\"The local minimum occurs at x = %.2f\"%(x),\"y = %.2f\"%(y))\n",
        "print(\"Minimum value of f(x)=%.2f\"%((x**2)+(y**2)+10))"
      ],
      "execution_count": 3,
      "outputs": [
        {
          "output_type": "stream",
          "text": [
            "The local minimum occurs at x = 0.00 y = 0.00\n",
            "Minimum value of f(x)=10.00\n"
          ],
          "name": "stdout"
        }
      ]
    }
  ]
}
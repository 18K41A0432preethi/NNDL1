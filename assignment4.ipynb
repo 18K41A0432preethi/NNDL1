{
  "nbformat": 4,
  "nbformat_minor": 0,
  "metadata": {
    "colab": {
      "name": "assignment4.ipynb",
      "provenance": [],
      "authorship_tag": "ABX9TyPo2meZln56TUdkrJeXv1bJ",
      "include_colab_link": true
    },
    "kernelspec": {
      "name": "python3",
      "display_name": "Python 3"
    },
    "language_info": {
      "name": "python"
    }
  },
  "cells": [
    {
      "cell_type": "markdown",
      "metadata": {
        "id": "view-in-github",
        "colab_type": "text"
      },
      "source": [
        "<a href=\"https://colab.research.google.com/github/18K41A0432preethi/NNDL1/blob/main/assignment4.ipynb\" target=\"_parent\"><img src=\"https://colab.research.google.com/assets/colab-badge.svg\" alt=\"Open In Colab\"/></a>"
      ]
    },
    {
      "cell_type": "code",
      "metadata": {
        "id": "NARPdzm0VJgj"
      },
      "source": [
        "import numpy as np\n",
        "import matplotlib.pyplot as plt\n",
        "import pandas as pd\n",
        "from sklearn.model_selection import train_test_split\n",
        "import seaborn as sns\n",
        "from scipy import stats"
      ],
      "execution_count": 1,
      "outputs": []
    },
    {
      "cell_type": "code",
      "metadata": {
        "colab": {
          "base_uri": "https://localhost:8080/",
          "height": 212
        },
        "id": "LH_RPut7Vg5K",
        "outputId": "e1451169-933c-4e29-d9eb-7120b66c74a4"
      },
      "source": [
        "data = pd.read_excel(\"/content/unioncarbide.xls\")\n",
        "data.head()"
      ],
      "execution_count": 2,
      "outputs": [
        {
          "output_type": "stream",
          "text": [
            "*** No CODEPAGE record, no encoding_override: will use 'ascii'\n"
          ],
          "name": "stdout"
        },
        {
          "output_type": "execute_result",
          "data": {
            "text/html": [
              "<div>\n",
              "<style scoped>\n",
              "    .dataframe tbody tr th:only-of-type {\n",
              "        vertical-align: middle;\n",
              "    }\n",
              "\n",
              "    .dataframe tbody tr th {\n",
              "        vertical-align: top;\n",
              "    }\n",
              "\n",
              "    .dataframe thead th {\n",
              "        text-align: right;\n",
              "    }\n",
              "</style>\n",
              "<table border=\"1\" class=\"dataframe\">\n",
              "  <thead>\n",
              "    <tr style=\"text-align: right;\">\n",
              "      <th></th>\n",
              "      <th>X</th>\n",
              "      <th>Y</th>\n",
              "    </tr>\n",
              "  </thead>\n",
              "  <tbody>\n",
              "    <tr>\n",
              "      <th>0</th>\n",
              "      <td>7.6</td>\n",
              "      <td>157</td>\n",
              "    </tr>\n",
              "    <tr>\n",
              "      <th>1</th>\n",
              "      <td>7.1</td>\n",
              "      <td>174</td>\n",
              "    </tr>\n",
              "    <tr>\n",
              "      <th>2</th>\n",
              "      <td>8.2</td>\n",
              "      <td>175</td>\n",
              "    </tr>\n",
              "    <tr>\n",
              "      <th>3</th>\n",
              "      <td>7.5</td>\n",
              "      <td>188</td>\n",
              "    </tr>\n",
              "    <tr>\n",
              "      <th>4</th>\n",
              "      <td>7.4</td>\n",
              "      <td>171</td>\n",
              "    </tr>\n",
              "  </tbody>\n",
              "</table>\n",
              "</div>"
            ],
            "text/plain": [
              "     X    Y\n",
              "0  7.6  157\n",
              "1  7.1  174\n",
              "2  8.2  175\n",
              "3  7.5  188\n",
              "4  7.4  171"
            ]
          },
          "metadata": {
            "tags": []
          },
          "execution_count": 2
        }
      ]
    },
    {
      "cell_type": "code",
      "metadata": {
        "colab": {
          "base_uri": "https://localhost:8080/"
        },
        "id": "0cuwnp92VhAq",
        "outputId": "e8c1ad82-c9dc-4508-a43d-24413fc549df"
      },
      "source": [
        "data.info()"
      ],
      "execution_count": 3,
      "outputs": [
        {
          "output_type": "stream",
          "text": [
            "<class 'pandas.core.frame.DataFrame'>\n",
            "RangeIndex: 34 entries, 0 to 33\n",
            "Data columns (total 2 columns):\n",
            " #   Column  Non-Null Count  Dtype  \n",
            "---  ------  --------------  -----  \n",
            " 0   X       34 non-null     float64\n",
            " 1   Y       34 non-null     int64  \n",
            "dtypes: float64(1), int64(1)\n",
            "memory usage: 672.0 bytes\n"
          ],
          "name": "stdout"
        }
      ]
    },
    {
      "cell_type": "code",
      "metadata": {
        "colab": {
          "base_uri": "https://localhost:8080/"
        },
        "id": "y_Ggg42OVrHN",
        "outputId": "06be8824-8b36-4ef6-d97f-b7d0ed4a9887"
      },
      "source": [
        "z = np.abs(stats.zscore(data))\n",
        "print(z)"
      ],
      "execution_count": 4,
      "outputs": [
        {
          "output_type": "stream",
          "text": [
            "[[0.12500664 0.25847285]\n",
            " [1.13696519 0.56778404]\n",
            " [1.08934361 0.58597881]\n",
            " [0.32739835 0.8225109 ]\n",
            " [0.52979006 0.51319971]\n",
            " [0.27977677 0.00374598]\n",
            " [0.73218177 1.3501594 ]\n",
            " [0.68456019 0.85890045]\n",
            " [1.13696519 0.01444879]\n",
            " [0.32739835 0.85890045]\n",
            " [0.8869519  1.31376985]\n",
            " [1.3393569  1.02265344]\n",
            " [0.73218177 2.16892432]\n",
            " [0.27977677 0.6876555 ]\n",
            " [0.73218177 0.39653909]\n",
            " [0.68456019 1.12433013]\n",
            " [1.69651874 1.10613535]\n",
            " [1.13696519 1.22279597]\n",
            " [1.08934361 1.07723776]\n",
            " [0.48216848 0.22208329]\n",
            " [0.12500664 0.25847285]\n",
            " [2.30369386 0.07652509]\n",
            " [0.93457348 0.17820178]\n",
            " [0.48216848 1.63378385]\n",
            " [0.8869519  1.57919952]\n",
            " [0.07738507 0.5420973 ]\n",
            " [1.49412703 1.96128982]\n",
            " [0.52979006 0.32375998]\n",
            " [0.73218177 1.21530401]\n",
            " [1.69651874 1.72475773]\n",
            " [0.27977677 0.07652509]\n",
            " [1.94653203 0.46931819]\n",
            " [1.13696519 0.71334225]\n",
            " [0.73218177 1.01516147]]\n"
          ],
          "name": "stdout"
        }
      ]
    },
    {
      "cell_type": "code",
      "metadata": {
        "colab": {
          "base_uri": "https://localhost:8080/",
          "height": 296
        },
        "id": "nnnB8RncVhDx",
        "outputId": "c32061ce-bec9-4aff-cb74-7939fab4f0d7"
      },
      "source": [
        "sns.boxplot(x=data['X'])"
      ],
      "execution_count": 5,
      "outputs": [
        {
          "output_type": "execute_result",
          "data": {
            "text/plain": [
              "<matplotlib.axes._subplots.AxesSubplot at 0x7fe274f16fd0>"
            ]
          },
          "metadata": {
            "tags": []
          },
          "execution_count": 5
        },
        {
          "output_type": "display_data",
          "data": {
            "image/png": "[encoded data removed]",
            "text/plain": [
              "<Figure size 432x288 with 1 Axes>"
            ]
          },
          "metadata": {
            "tags": [],
            "needs_background": "light"
          }
        }
      ]
    },
    {
      "cell_type": "code",
      "metadata": {
        "colab": {
          "base_uri": "https://localhost:8080/",
          "height": 269
        },
        "id": "N1olPeHfVhHT",
        "outputId": "a0a1c372-4832-4cbf-8a0d-d4f0997702cd"
      },
      "source": [
        "sns.boxplot(y=data['Y'])"
      ],
      "execution_count": 6,
      "outputs": [
        {
          "output_type": "execute_result",
          "data": {
            "text/plain": [
              "<matplotlib.axes._subplots.AxesSubplot at 0x7fe274fb4050>"
            ]
          },
          "metadata": {
            "tags": []
          },
          "execution_count": 6
        },
        {
          "output_type": "display_data",
          "data": {
            "image/png": "[encoded data removed]",
            "text/plain": [
              "<Figure size 432x288 with 1 Axes>"
            ]
          },
          "metadata": {
            "tags": [],
            "needs_background": "light"
          }
        }
      ]
    },
    {
      "cell_type": "code",
      "metadata": {
        "colab": {
          "base_uri": "https://localhost:8080/",
          "height": 195
        },
        "id": "0oC4Z1jsVhKb",
        "outputId": "e9a01ca4-1e7a-4eb3-e3c4-75858f36802f"
      },
      "source": [
        "f_data = data[(z < 3).all(axis=1)]\n",
        "f_data.head()"
      ],
      "execution_count": 7,
      "outputs": [
        {
          "output_type": "execute_result",
          "data": {
            "text/html": [
              "<div>\n",
              "<style scoped>\n",
              "    .dataframe tbody tr th:only-of-type {\n",
              "        vertical-align: middle;\n",
              "    }\n",
              "\n",
              "    .dataframe tbody tr th {\n",
              "        vertical-align: top;\n",
              "    }\n",
              "\n",
              "    .dataframe thead th {\n",
              "        text-align: right;\n",
              "    }\n",
              "</style>\n",
              "<table border=\"1\" class=\"dataframe\">\n",
              "  <thead>\n",
              "    <tr style=\"text-align: right;\">\n",
              "      <th></th>\n",
              "      <th>X</th>\n",
              "      <th>Y</th>\n",
              "    </tr>\n",
              "  </thead>\n",
              "  <tbody>\n",
              "    <tr>\n",
              "      <th>0</th>\n",
              "      <td>7.6</td>\n",
              "      <td>157</td>\n",
              "    </tr>\n",
              "    <tr>\n",
              "      <th>1</th>\n",
              "      <td>7.1</td>\n",
              "      <td>174</td>\n",
              "    </tr>\n",
              "    <tr>\n",
              "      <th>2</th>\n",
              "      <td>8.2</td>\n",
              "      <td>175</td>\n",
              "    </tr>\n",
              "    <tr>\n",
              "      <th>3</th>\n",
              "      <td>7.5</td>\n",
              "      <td>188</td>\n",
              "    </tr>\n",
              "    <tr>\n",
              "      <th>4</th>\n",
              "      <td>7.4</td>\n",
              "      <td>171</td>\n",
              "    </tr>\n",
              "  </tbody>\n",
              "</table>\n",
              "</div>"
            ],
            "text/plain": [
              "     X    Y\n",
              "0  7.6  157\n",
              "1  7.1  174\n",
              "2  8.2  175\n",
              "3  7.5  188\n",
              "4  7.4  171"
            ]
          },
          "metadata": {
            "tags": []
          },
          "execution_count": 7
        }
      ]
    },
    {
      "cell_type": "code",
      "metadata": {
        "colab": {
          "base_uri": "https://localhost:8080/",
          "height": 195
        },
        "id": "onrqxz0MVhM8",
        "outputId": "87e5c527-564a-4b3d-9504-8c7a53b2bfb3"
      },
      "source": [
        "df = data\n",
        "for i in df:\n",
        "    q = df[i].quantile(0.99)\n",
        "    df[df[i] < q]\n",
        "    q_low = df[i].quantile(0.01)\n",
        "    q_hi  = df[i].quantile(0.99)\n",
        "\n",
        "    df_filtered = df[(df[i] < q_hi) & (df[i] > q_low)]\n",
        "df_filtered.head()"
      ],
      "execution_count": 8,
      "outputs": [
        {
          "output_type": "execute_result",
          "data": {
            "text/html": [
              "<div>\n",
              "<style scoped>\n",
              "    .dataframe tbody tr th:only-of-type {\n",
              "        vertical-align: middle;\n",
              "    }\n",
              "\n",
              "    .dataframe tbody tr th {\n",
              "        vertical-align: top;\n",
              "    }\n",
              "\n",
              "    .dataframe thead th {\n",
              "        text-align: right;\n",
              "    }\n",
              "</style>\n",
              "<table border=\"1\" class=\"dataframe\">\n",
              "  <thead>\n",
              "    <tr style=\"text-align: right;\">\n",
              "      <th></th>\n",
              "      <th>X</th>\n",
              "      <th>Y</th>\n",
              "    </tr>\n",
              "  </thead>\n",
              "  <tbody>\n",
              "    <tr>\n",
              "      <th>0</th>\n",
              "      <td>7.6</td>\n",
              "      <td>157</td>\n",
              "    </tr>\n",
              "    <tr>\n",
              "      <th>1</th>\n",
              "      <td>7.1</td>\n",
              "      <td>174</td>\n",
              "    </tr>\n",
              "    <tr>\n",
              "      <th>2</th>\n",
              "      <td>8.2</td>\n",
              "      <td>175</td>\n",
              "    </tr>\n",
              "    <tr>\n",
              "      <th>3</th>\n",
              "      <td>7.5</td>\n",
              "      <td>188</td>\n",
              "    </tr>\n",
              "    <tr>\n",
              "      <th>4</th>\n",
              "      <td>7.4</td>\n",
              "      <td>171</td>\n",
              "    </tr>\n",
              "  </tbody>\n",
              "</table>\n",
              "</div>"
            ],
            "text/plain": [
              "     X    Y\n",
              "0  7.6  157\n",
              "1  7.1  174\n",
              "2  8.2  175\n",
              "3  7.5  188\n",
              "4  7.4  171"
            ]
          },
          "metadata": {
            "tags": []
          },
          "execution_count": 8
        }
      ]
    },
    {
      "cell_type": "code",
      "metadata": {
        "colab": {
          "base_uri": "https://localhost:8080/"
        },
        "id": "kpNR9JpOV8Fz",
        "outputId": "09067fd4-793a-471a-9161-660cb0a4ae6c"
      },
      "source": [
        "data = df_filtered\n",
        "print(len(data))\n",
        "print(len(df_filtered))\n",
        "if(len(data) == len(df_filtered)):\n",
        "    print('No outliners')"
      ],
      "execution_count": 9,
      "outputs": [
        {
          "output_type": "stream",
          "text": [
            "32\n",
            "32\n",
            "No outliners\n"
          ],
          "name": "stdout"
        }
      ]
    },
    {
      "cell_type": "code",
      "metadata": {
        "colab": {
          "base_uri": "https://localhost:8080/",
          "height": 195
        },
        "id": "uaingkKBV8Is",
        "outputId": "66d6aaad-b6be-4654-e8e9-d642907684b4"
      },
      "source": [
        "data_n = data.copy()\n",
        "data_n = (data_n - data_n.min())/(data_n.max() - data_n.min())\n",
        "data_n.head()"
      ],
      "execution_count": 10,
      "outputs": [
        {
          "output_type": "execute_result",
          "data": {
            "text/html": [
              "<div>\n",
              "<style scoped>\n",
              "    .dataframe tbody tr th:only-of-type {\n",
              "        vertical-align: middle;\n",
              "    }\n",
              "\n",
              "    .dataframe tbody tr th {\n",
              "        vertical-align: top;\n",
              "    }\n",
              "\n",
              "    .dataframe thead th {\n",
              "        text-align: right;\n",
              "    }\n",
              "</style>\n",
              "<table border=\"1\" class=\"dataframe\">\n",
              "  <thead>\n",
              "    <tr style=\"text-align: right;\">\n",
              "      <th></th>\n",
              "      <th>X</th>\n",
              "      <th>Y</th>\n",
              "    </tr>\n",
              "  </thead>\n",
              "  <tbody>\n",
              "    <tr>\n",
              "      <th>0</th>\n",
              "      <td>0.428571</td>\n",
              "      <td>0.644970</td>\n",
              "    </tr>\n",
              "    <tr>\n",
              "      <th>1</th>\n",
              "      <td>0.190476</td>\n",
              "      <td>0.745562</td>\n",
              "    </tr>\n",
              "    <tr>\n",
              "      <th>2</th>\n",
              "      <td>0.714286</td>\n",
              "      <td>0.751479</td>\n",
              "    </tr>\n",
              "    <tr>\n",
              "      <th>3</th>\n",
              "      <td>0.380952</td>\n",
              "      <td>0.828402</td>\n",
              "    </tr>\n",
              "    <tr>\n",
              "      <th>4</th>\n",
              "      <td>0.333333</td>\n",
              "      <td>0.727811</td>\n",
              "    </tr>\n",
              "  </tbody>\n",
              "</table>\n",
              "</div>"
            ],
            "text/plain": [
              "          X         Y\n",
              "0  0.428571  0.644970\n",
              "1  0.190476  0.745562\n",
              "2  0.714286  0.751479\n",
              "3  0.380952  0.828402\n",
              "4  0.333333  0.727811"
            ]
          },
          "metadata": {
            "tags": []
          },
          "execution_count": 10
        }
      ]
    },
    {
      "cell_type": "code",
      "metadata": {
        "id": "sc6WiprTV8Mg"
      },
      "source": [
        "train_data,test_data = train_test_split(data_n,test_size=0.1)"
      ],
      "execution_count": 11,
      "outputs": []
    },
    {
      "cell_type": "code",
      "metadata": {
        "colab": {
          "base_uri": "https://localhost:8080/",
          "height": 212
        },
        "id": "rf4DJwQDV8PG",
        "outputId": "4beea2e9-b2c1-407a-fcac-04efb18d8310"
      },
      "source": [
        "print(len(train_data))\n",
        "train_data.head()"
      ],
      "execution_count": 12,
      "outputs": [
        {
          "output_type": "stream",
          "text": [
            "28\n"
          ],
          "name": "stdout"
        },
        {
          "output_type": "execute_result",
          "data": {
            "text/html": [
              "<div>\n",
              "<style scoped>\n",
              "    .dataframe tbody tr th:only-of-type {\n",
              "        vertical-align: middle;\n",
              "    }\n",
              "\n",
              "    .dataframe tbody tr th {\n",
              "        vertical-align: top;\n",
              "    }\n",
              "\n",
              "    .dataframe thead th {\n",
              "        text-align: right;\n",
              "    }\n",
              "</style>\n",
              "<table border=\"1\" class=\"dataframe\">\n",
              "  <thead>\n",
              "    <tr style=\"text-align: right;\">\n",
              "      <th></th>\n",
              "      <th>X</th>\n",
              "      <th>Y</th>\n",
              "    </tr>\n",
              "  </thead>\n",
              "  <tbody>\n",
              "    <tr>\n",
              "      <th>25</th>\n",
              "      <td>0.476190</td>\n",
              "      <td>0.384615</td>\n",
              "    </tr>\n",
              "    <tr>\n",
              "      <th>20</th>\n",
              "      <td>0.428571</td>\n",
              "      <td>0.644970</td>\n",
              "    </tr>\n",
              "    <tr>\n",
              "      <th>8</th>\n",
              "      <td>0.190476</td>\n",
              "      <td>0.556213</td>\n",
              "    </tr>\n",
              "    <tr>\n",
              "      <th>22</th>\n",
              "      <td>0.238095</td>\n",
              "      <td>0.502959</td>\n",
              "    </tr>\n",
              "    <tr>\n",
              "      <th>5</th>\n",
              "      <td>0.523810</td>\n",
              "      <td>0.562130</td>\n",
              "    </tr>\n",
              "  </tbody>\n",
              "</table>\n",
              "</div>"
            ],
            "text/plain": [
              "           X         Y\n",
              "25  0.476190  0.384615\n",
              "20  0.428571  0.644970\n",
              "8   0.190476  0.556213\n",
              "22  0.238095  0.502959\n",
              "5   0.523810  0.562130"
            ]
          },
          "metadata": {
            "tags": []
          },
          "execution_count": 12
        }
      ]
    },
    {
      "cell_type": "code",
      "metadata": {
        "id": "jDm7R9AuV8Ss"
      },
      "source": [
        "x = np.array(train_data['X'])\n",
        "y = np.array(train_data['Y'])"
      ],
      "execution_count": 13,
      "outputs": []
    },
    {
      "cell_type": "code",
      "metadata": {
        "colab": {
          "base_uri": "https://localhost:8080/"
        },
        "id": "I2SKWpeOV8UW",
        "outputId": "77fd990b-8228-4e50-8827-e9fec58241ab"
      },
      "source": [
        "#Initialise values \n",
        "m=1.0\n",
        "c=-1.0\n",
        "err = []\n",
        "dm=dc=1\n",
        "ns=len(x)#total samples\n",
        "eta=0.1 #Learning rate\n",
        "max_iters=100 #Maximum iterations\n",
        "def derivative(m,c,x,y):\n",
        "  x_derivative=(-1.0)*(y-m*x-c)*x\n",
        "  y_derivative=(-1.0)*(y-m*x-c)\n",
        "  return x_derivative,y_derivative\n",
        "for i in range(max_iters):\n",
        "  error =0\n",
        "  for j in range(ns):\n",
        "    error +=  ((y[j] - (m *x[j]) - c))**2\n",
        "    m1=m\n",
        "    c1=c\n",
        "    dm,dc=derivative(m1,c1,x[j],y[j])\n",
        "    #find change in x , y\n",
        "    dm=(-1.0)*eta*dm\n",
        "    dc=(-1.0)*eta*dc\n",
        "    #update variable \n",
        "    m = m + dm\n",
        "    m = round(m, 2)\n",
        "    c = c + dc\n",
        "    c = round(c, 2)\n",
        "    error = (1/(2*len(train_data['X'])))*(error)\n",
        "    err.append(error)\n",
        "  # print variable m and c\n",
        "print(m, c)\n",
        "print(f'minimum value obtained at m = {m} ,c ={c} for given function')"
      ],
      "execution_count": 14,
      "outputs": [
        {
          "output_type": "stream",
          "text": [
            "-0.25 0.59\n",
            "minimum value obtained at m = -0.25 ,c =0.59 for given function\n"
          ],
          "name": "stdout"
        }
      ]
    },
    {
      "cell_type": "code",
      "metadata": {
        "colab": {
          "base_uri": "https://localhost:8080/"
        },
        "id": "bhnR4rWCV8WG",
        "outputId": "74a131bc-c0f6-46bf-9cdb-9b5c8a626f0a"
      },
      "source": [
        "train_data_pred =  m*train_data['X'] + c\n",
        "from sklearn.metrics import mean_squared_error\n",
        "mse = mean_squared_error(train_data['Y'],train_data_pred)\n",
        "print(\"Mean Square Error for training data (MSE) : \",mse)\n",
        "print(\"Root Mean Square Error for traning data (RMSE):\",mse**0.5)"
      ],
      "execution_count": 15,
      "outputs": [
        {
          "output_type": "stream",
          "text": [
            "Mean Square Error for training data (MSE) :  0.07525747828881578\n",
            "Root Mean Square Error for traning data (RMSE): 0.2743309648742113\n"
          ],
          "name": "stdout"
        }
      ]
    },
    {
      "cell_type": "code",
      "metadata": {
        "colab": {
          "base_uri": "https://localhost:8080/",
          "height": 298
        },
        "id": "jsNjVC65V8Xr",
        "outputId": "9cadf86e-f7ac-4953-d4d2-60c85675e310"
      },
      "source": [
        "plt.plot(np.array(train_data['X']),np.array(train_data_pred),'blue')\n",
        "plt.scatter(np.array(train_data['X']),np.array(train_data['Y']),color='red')\n",
        "plt.title('predicted data vs actual data')"
      ],
      "execution_count": 17,
      "outputs": [
        {
          "output_type": "execute_result",
          "data": {
            "text/plain": [
              "Text(0.5, 1.0, 'predicted data vs actual data')"
            ]
          },
          "metadata": {
            "tags": []
          },
          "execution_count": 17
        },
        {
          "output_type": "display_data",
          "data": {
            "image/png": "[encoded data removed]",
            "text/plain": [
              "<Figure size 432x288 with 1 Axes>"
            ]
          },
          "metadata": {
            "tags": [],
            "needs_background": "light"
          }
        }
      ]
    },
    {
      "cell_type": "code",
      "metadata": {
        "colab": {
          "base_uri": "https://localhost:8080/",
          "height": 295
        },
        "id": "Gg0soSztV8ac",
        "outputId": "e0ad89a4-bde4-4d30-a455-f25a93ec030d"
      },
      "source": [
        "iters = np.arange(max_iters*len(x))\n",
        "plt.plot(iters,err,'red')\n",
        "plt.title(\"Error graph for training data\")\n",
        "plt.xlabel(\"iteration count\")\n",
        "plt.ylabel(\"error\")\n",
        "plt.grid()"
      ],
      "execution_count": 19,
      "outputs": [
        {
          "output_type": "display_data",
          "data": {
            "image/png": "[encoded data removed]",
            "text/plain": [
              "<Figure size 432x288 with 1 Axes>"
            ]
          },
          "metadata": {
            "tags": [],
            "needs_background": "light"
          }
        }
      ]
    },
    {
      "cell_type": "code",
      "metadata": {
        "colab": {
          "base_uri": "https://localhost:8080/"
        },
        "id": "c-NOVidPVhQE",
        "outputId": "9bfd2388-0fbe-40c1-fc7d-cc48413ec1ae"
      },
      "source": [
        "test_data_pred = m *test_data['X'] + c\n",
        "mse2 = mean_squared_error(test_data['Y'],test_data_pred)\n",
        "mse2\n",
        "print(\"Mean Square Error for testing data (MSE) : \",mse2)\n",
        "print(\"Root mean square error for testing data (RMSE):\",mse2**0.5)"
      ],
      "execution_count": 20,
      "outputs": [
        {
          "output_type": "stream",
          "text": [
            "Mean Square Error for testing data (MSE) :  0.1594726666483266\n",
            "Root mean square error for testing data (RMSE): 0.3993402892876282\n"
          ],
          "name": "stdout"
        }
      ]
    },
    {
      "cell_type": "code",
      "metadata": {
        "colab": {
          "base_uri": "https://localhost:8080/",
          "height": 265
        },
        "id": "Nk_EXeXrWrNN",
        "outputId": "7d79585b-9164-43c3-f948-8ced321c4a22"
      },
      "source": [
        "plt.scatter(test_data['X'],test_data['Y'],color='blue')\n",
        "plt.plot(test_data['X'],test_data_pred,'green')\n",
        "plt.grid()"
      ],
      "execution_count": 22,
      "outputs": [
        {
          "output_type": "display_data",
          "data": {
            "image/png": "[encoded data removed]",
            "text/plain": [
              "<Figure size 432x288 with 1 Axes>"
            ]
          },
          "metadata": {
            "tags": [],
            "needs_background": "light"
          }
        }
      ]
    },
    {
      "cell_type": "code",
      "metadata": {
        "id": "CD4fMsEPWrTV"
      },
      "source": [
        "x_min = data['X'].min()\n",
        "x_max = data['X'].max()\n",
        "y_min = data['Y'].min()\n",
        "y_max = data['Y'].max()"
      ],
      "execution_count": 23,
      "outputs": []
    },
    {
      "cell_type": "code",
      "metadata": {
        "colab": {
          "base_uri": "https://localhost:8080/"
        },
        "id": "g4J7Xr4eWrZh",
        "outputId": "d1c76a58-1b8c-484d-f567-17800578b621"
      },
      "source": [
        "\n",
        "x1 =x2 = float(input(\"enter pH value of well water :\"))\n",
        "x1 = (x1 - x_min)/(x_max - x_min)\n",
        "y1 = m*x1 + c\n",
        "y1 = y1*(y_max - y_min) + y_min\n",
        "print(f\"bicarbonates of well water based on its pH {x2} is : {y1}\")"
      ],
      "execution_count": 24,
      "outputs": [
        {
          "output_type": "stream",
          "text": [
            "enter pH value of well water :6.5\n",
            "bicarbonates of well water based on its pH 6.5 is : 151.73380952380953\n"
          ],
          "name": "stdout"
        }
      ]
    }
  ]
}
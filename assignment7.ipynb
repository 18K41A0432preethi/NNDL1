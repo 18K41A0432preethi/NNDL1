{
  "nbformat": 4,
  "nbformat_minor": 0,
  "metadata": {
    "colab": {
      "name": "assignment7.ipynb",
      "provenance": [],
      "authorship_tag": "ABX9TyO0LK9WexaqYBkeOBNuTDgO",
      "include_colab_link": true
    },
    "kernelspec": {
      "name": "python3",
      "display_name": "Python 3"
    },
    "language_info": {
      "name": "python"
    }
  },
  "cells": [
    {
      "cell_type": "markdown",
      "metadata": {
        "id": "view-in-github",
        "colab_type": "text"
      },
      "source": [
        "<a href=\"https://colab.research.google.com/github/18K41A0432preethi/NNDL1/blob/main/assignment7.ipynb\" target=\"_parent\"><img src=\"https://colab.research.google.com/assets/colab-badge.svg\" alt=\"Open In Colab\"/></a>"
      ]
    },
    {
      "cell_type": "code",
      "metadata": {
        "colab": {
          "base_uri": "https://localhost:8080/"
        },
        "id": "xZjM2VlBfF3A",
        "outputId": "1bdd0695-fcbf-47e1-dc75-3a3ede4c1c9f"
      },
      "source": [
        "#Initialise values\n",
        "xa = [0.2,0.4,0.6,0.8]\n",
        "ya = [3.4,3.8,4.2,4.6]\n",
        "eta=0.1 #Learning rate\n",
        "max_iters=100 #Maximum iterations\n",
        "ns=len(xa)#Batch Size\n",
        "m=1\n",
        "c=-1\n",
        "for i in range(0,max_iters):\n",
        "  gradm=0\n",
        "  gradc=0\n",
        "  for j in range(0,ns):\n",
        "    #Partial differentiation of error function with respect to m and c\n",
        "    gradm = gradm+((-1.0)*((ya[j]-m*xa[j]-c)*xa[j]))\n",
        "    gradc = gradc+((-1.0)*(ya[j]-m*xa[j]-c))\n",
        "  gradm = gradm/ns\n",
        "  gradc = gradc/ns\n",
        "  dm = (-1)*eta*gradm\n",
        "  dc = (-1)*eta*gradc  \n",
        "  #update variable \n",
        "  m = m + dm\n",
        "  c = c + dc\n",
        "print(m, c)\n",
        "print(\"The minimum value occurs at m =%.2f\"%(m),\", c = %.2f\"%(c))"
      ],
      "execution_count": 1,
      "outputs": [
        {
          "output_type": "stream",
          "text": [
            "2.572353565334219 2.7019945545615434\n",
            "The minimum value occurs at m =2.57 , c = 2.70\n"
          ],
          "name": "stdout"
        }
      ]
    },
    {
      "cell_type": "code",
      "metadata": {
        "colab": {
          "base_uri": "https://localhost:8080/",
          "height": 295
        },
        "id": "Ynvy8Bojf1Se",
        "outputId": "40cb2c9d-64a6-4dd8-c1b0-c93341fb97fd"
      },
      "source": [
        "import matplotlib.pyplot as plt\n",
        "import numpy as np\n",
        "x = np.linspace(-5,5,100)\n",
        "y = m*x+c\n",
        "plt.plot(x, y, '-r', label='y='+str(m)+'x+'+str(c))\n",
        "plt.title('Graph of '+'y='+str(m)+'x+'+str(c))\n",
        "plt.xlabel('x')\n",
        "plt.ylabel('y')\n",
        "plt.legend(loc='upper left')\n",
        "plt.grid()\n",
        "plt.show()\n"
      ],
      "execution_count": 2,
      "outputs": [
        {
          "output_type": "display_data",
          "data": {
            "image/png": "[encoded data removed]",
            "text/plain": [
              "<Figure size 432x288 with 1 Axes>"
            ]
          },
          "metadata": {
            "tags": [],
            "needs_background": "light"
          }
        }
      ]
    },
    {
      "cell_type": "code",
      "metadata": {
        "colab": {
          "base_uri": "https://localhost:8080/"
        },
        "id": "ltNar8lgf5UA",
        "outputId": "92ebaffb-ff60-4f4d-9597-ab7c5956a09d"
      },
      "source": [
        "data_pred = []\n",
        "for i in xa:\n",
        "    data_pred.append(m*i+c)\n",
        "\n",
        "from sklearn.metrics import mean_squared_error\n",
        "mse = mean_squared_error(ya,data_pred)\n",
        "print(\"Mean Square Error(MSE) : \",mse)\n",
        "print(\"Root Mean Square Error(RMSE):\",mse**0.5)"
      ],
      "execution_count": 3,
      "outputs": [
        {
          "output_type": "stream",
          "text": [
            "Mean Square Error(MSE) :  0.016519347450497823\n",
            "Root Mean Square Error(RMSE): 0.12852761357193956\n"
          ],
          "name": "stdout"
        }
      ]
    }
  ]
}